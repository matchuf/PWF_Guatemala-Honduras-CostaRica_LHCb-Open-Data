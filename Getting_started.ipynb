{
 "cells": [
  {
   "cell_type": "markdown",
   "metadata": {},
   "source": [
    "### Welcome to PWF Online Workshop: Reading and Manipulating LHCb Open Data\n",
    "\n",
    "The purpose of this notebook is to perform a short exercise to check that your LHCb conda environment is ready to read an run LHC Open Data."
   ]
  },
  {
   "cell_type": "code",
   "execution_count": null,
   "metadata": {},
   "outputs": [],
   "source": [
    "import numpy as np\n",
    "import pandas as pd\n",
    "import uproot\n",
    "import os\n",
    "from matplotlib import pyplot as plt\n",
    "from subprocess import check_output"
   ]
  },
  {
   "cell_type": "markdown",
   "metadata": {},
   "source": [
    "\n",
    "Let us download a file with simulated data of Standard Model production of the Higgs boson decaying to four leptons. Do not worry if you are not familiar with the process, we will use it just to test if your conda environmet works!"
   ]
  },
  {
   "cell_type": "code",
   "execution_count": null,
   "metadata": {
    "id": "ZnINVh5Bs_T7"
   },
   "outputs": [],
   "source": [
    "filename = 'SMHiggsToZZTo4L.root'\n",
    "fn_url = 'root://eospublic.cern.ch//eos/root-eos/cms_opendata_2012_nanoaod/'+filename\n",
    "\n",
    "# Creating Data folder\n",
    "if not os.path.exists('./Data/'): os.makedirs('./Data/')\n",
    "\n",
    "#Downloading data file\n",
    "if not os.path.isfile('./Data/'+filename):\n",
    "    print('Downloading', fn_url)\n",
    "    check_output('xrdcp ' + fn_url + ' ./Data/', shell=True)"
   ]
  },
  {
   "cell_type": "markdown",
   "metadata": {},
   "source": [
    "We will save the simulated data as data frame including a selection cut to get a smaller data frame. Let us focus on events with two electrons and two muons at final state. `nElectron` is the number of electrons and `nMuon` the number of muons of each event."
   ]
  },
  {
   "cell_type": "code",
   "execution_count": null,
   "metadata": {},
   "outputs": [],
   "source": [
    "# Selection cuts\n",
    "preselection = \"(nElectron==2) & (nMuon==2)\"\n",
    "\n",
    "# Saving selected events of de simulated data as data frame\n",
    "with uproot.open(\"./Data/SMHiggsToZZTo4L.root:Events\") as rootdata:\n",
    "    data = rootdata.arrays(rootdata.keys(),preselection,library=\"pd\")"
   ]
  },
  {
   "cell_type": "markdown",
   "metadata": {},
   "source": [
    "Let us check what information is available for each event."
   ]
  },
  {
   "cell_type": "code",
   "execution_count": null,
   "metadata": {
    "colab": {
     "base_uri": "https://localhost:8080/"
    },
    "executionInfo": {
     "elapsed": 172,
     "status": "ok",
     "timestamp": 1732902538976,
     "user": {
      "displayName": "Maria Eugenia Cabrera Catalan",
      "userId": "05832653747440581774"
     },
     "user_tz": 360
    },
    "id": "l77RFT4D3max",
    "outputId": "42f58e88-35a3-469e-b9e9-adb8d8ef631b"
   },
   "outputs": [],
   "source": [
    "print(data.keys())"
   ]
  },
  {
   "cell_type": "markdown",
   "metadata": {},
   "source": [
    "And finally plot the histogram of the transverse momentum of the two electrons."
   ]
  },
  {
   "cell_type": "code",
   "execution_count": null,
   "metadata": {
    "colab": {
     "base_uri": "https://localhost:8080/",
     "height": 859
    },
    "executionInfo": {
     "elapsed": 622,
     "status": "ok",
     "timestamp": 1732902629405,
     "user": {
      "displayName": "Maria Eugenia Cabrera Catalan",
      "userId": "05832653747440581774"
     },
     "user_tz": 360
    },
    "id": "V6D6qzxb9fCW",
    "outputId": "2d41066b-db57-45d0-cdaf-d709f638169d"
   },
   "outputs": [],
   "source": [
    "plt.hist(data['Electron_pt'],50,[0,150])"
   ]
  },
  {
   "cell_type": "markdown",
   "metadata": {},
   "source": [
    "**Congratulations!**, your conda environment is ready"
   ]
  }
 ],
 "metadata": {
  "colab": {
   "provenance": []
  },
  "kernelspec": {
   "display_name": "Python 3 (ipykernel)",
   "language": "python",
   "name": "python3"
  },
  "language_info": {
   "codemirror_mode": {
    "name": "ipython",
    "version": 3
   },
   "file_extension": ".py",
   "mimetype": "text/x-python",
   "name": "python",
   "nbconvert_exporter": "python",
   "pygments_lexer": "ipython3",
   "version": "3.12.8"
  }
 },
 "nbformat": 4,
 "nbformat_minor": 4
}
